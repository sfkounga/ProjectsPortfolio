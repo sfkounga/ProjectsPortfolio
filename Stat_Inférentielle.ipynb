{
  "nbformat": 4,
  "nbformat_minor": 0,
  "metadata": {
    "colab": {
      "provenance": [],
      "authorship_tag": "ABX9TyNN5VAr3unGLT1bPBWQtv9n"
    },
    "kernelspec": {
      "name": "python3",
      "display_name": "Python 3"
    },
    "language_info": {
      "name": "python"
    }
  },
  "cells": [
    {
      "cell_type": "markdown",
      "source": [
        "**Statistiques Inférentielles avec Python**\n",
        "\n",
        "---\n",
        "\n"
      ],
      "metadata": {
        "id": "kJQ3kd98otJ_"
      }
    },
    {
      "cell_type": "code",
      "execution_count": 2,
      "metadata": {
        "id": "9aOyzECliJE0"
      },
      "outputs": [],
      "source": [
        "# Importer de différentes librairies et bibliothèques\n",
        "\n",
        "import pandas as pd\n",
        "import numpy as np\n",
        "import seaborn as sns\n",
        "import matplotlib.pyplot as plt\n",
        "\n",
        "from scipy.stats import ttest_1samp\n",
        "from scipy.stats import f_oneway\n",
        "from scipy.stats import chi2_contingency\n",
        "from scipy.stats import chi2\n",
        "from scipy.stats import pearsonr"
      ]
    },
    {
      "cell_type": "code",
      "source": [
        "# Connecter mon Google Drive à ma session actuelle sur Google Colab\n",
        "from google.colab import drive\n",
        "drive.mount('/gdrive')"
      ],
      "metadata": {
        "colab": {
          "base_uri": "https://localhost:8080/"
        },
        "id": "Jr5_J1i8rYN3",
        "outputId": "3d476277-006b-4cb1-cd1e-27469252b27f"
      },
      "execution_count": 3,
      "outputs": [
        {
          "output_type": "stream",
          "name": "stdout",
          "text": [
            "Mounted at /gdrive\n"
          ]
        }
      ]
    },
    {
      "cell_type": "code",
      "source": [
        "import os"
      ],
      "metadata": {
        "id": "wmUyxxaBskeR"
      },
      "execution_count": 4,
      "outputs": []
    },
    {
      "cell_type": "code",
      "source": [
        "# Listing des fichiers contenus dans le dossier de travail sur Google Drive\n",
        "os.listdir('/gdrive/MyDrive/Colab_Notebooks')"
      ],
      "metadata": {
        "colab": {
          "base_uri": "https://localhost:8080/"
        },
        "id": "d3B51EHLso59",
        "outputId": "5211d7c5-33c5-4b36-b24c-6388b04bd5e4"
      },
      "execution_count": 5,
      "outputs": [
        {
          "output_type": "execute_result",
          "data": {
            "text/plain": [
              "['Python Test.ipynb', 'Poids-Taille-imc.csv', 'Stat_Descriptive.ipynb']"
            ]
          },
          "metadata": {},
          "execution_count": 5
        }
      ]
    },
    {
      "cell_type": "code",
      "source": [
        "# Importer le jeu de données et prévisualisation des 5 premières lignes des données\n",
        "df= pd.read_csv('/gdrive/MyDrive/Colab_Notebooks/Poids-Taille-imc.csv', encoding='latin-1')\n",
        "df.head(5)"
      ],
      "metadata": {
        "colab": {
          "base_uri": "https://localhost:8080/",
          "height": 206
        },
        "id": "Sy80y8MXsr_R",
        "outputId": "ed93697b-30c0-4ad5-d44b-2026a19b3044"
      },
      "execution_count": 6,
      "outputs": [
        {
          "output_type": "execute_result",
          "data": {
            "text/plain": [
              "   Genre    Taille       Poids       IMC\n",
              "0  Homme  1.875714  109.720985     Obèse\n",
              "1  Homme  1.747060   73.622732    Normal\n",
              "2  Homme  1.882397   96.497550  Surpoids\n",
              "3  Homme  1.821967   99.809504     Obèse\n",
              "4  Homme  1.774998   93.598619  Surpoids"
            ],
            "text/html": [
              "\n",
              "  <div id=\"df-176d5c5b-106f-4321-acf2-bc5d276c1684\" class=\"colab-df-container\">\n",
              "    <div>\n",
              "<style scoped>\n",
              "    .dataframe tbody tr th:only-of-type {\n",
              "        vertical-align: middle;\n",
              "    }\n",
              "\n",
              "    .dataframe tbody tr th {\n",
              "        vertical-align: top;\n",
              "    }\n",
              "\n",
              "    .dataframe thead th {\n",
              "        text-align: right;\n",
              "    }\n",
              "</style>\n",
              "<table border=\"1\" class=\"dataframe\">\n",
              "  <thead>\n",
              "    <tr style=\"text-align: right;\">\n",
              "      <th></th>\n",
              "      <th>Genre</th>\n",
              "      <th>Taille</th>\n",
              "      <th>Poids</th>\n",
              "      <th>IMC</th>\n",
              "    </tr>\n",
              "  </thead>\n",
              "  <tbody>\n",
              "    <tr>\n",
              "      <th>0</th>\n",
              "      <td>Homme</td>\n",
              "      <td>1.875714</td>\n",
              "      <td>109.720985</td>\n",
              "      <td>Obèse</td>\n",
              "    </tr>\n",
              "    <tr>\n",
              "      <th>1</th>\n",
              "      <td>Homme</td>\n",
              "      <td>1.747060</td>\n",
              "      <td>73.622732</td>\n",
              "      <td>Normal</td>\n",
              "    </tr>\n",
              "    <tr>\n",
              "      <th>2</th>\n",
              "      <td>Homme</td>\n",
              "      <td>1.882397</td>\n",
              "      <td>96.497550</td>\n",
              "      <td>Surpoids</td>\n",
              "    </tr>\n",
              "    <tr>\n",
              "      <th>3</th>\n",
              "      <td>Homme</td>\n",
              "      <td>1.821967</td>\n",
              "      <td>99.809504</td>\n",
              "      <td>Obèse</td>\n",
              "    </tr>\n",
              "    <tr>\n",
              "      <th>4</th>\n",
              "      <td>Homme</td>\n",
              "      <td>1.774998</td>\n",
              "      <td>93.598619</td>\n",
              "      <td>Surpoids</td>\n",
              "    </tr>\n",
              "  </tbody>\n",
              "</table>\n",
              "</div>\n",
              "    <div class=\"colab-df-buttons\">\n",
              "\n",
              "  <div class=\"colab-df-container\">\n",
              "    <button class=\"colab-df-convert\" onclick=\"convertToInteractive('df-176d5c5b-106f-4321-acf2-bc5d276c1684')\"\n",
              "            title=\"Convert this dataframe to an interactive table.\"\n",
              "            style=\"display:none;\">\n",
              "\n",
              "  <svg xmlns=\"http://www.w3.org/2000/svg\" height=\"24px\" viewBox=\"0 -960 960 960\">\n",
              "    <path d=\"M120-120v-720h720v720H120Zm60-500h600v-160H180v160Zm220 220h160v-160H400v160Zm0 220h160v-160H400v160ZM180-400h160v-160H180v160Zm440 0h160v-160H620v160ZM180-180h160v-160H180v160Zm440 0h160v-160H620v160Z\"/>\n",
              "  </svg>\n",
              "    </button>\n",
              "\n",
              "  <style>\n",
              "    .colab-df-container {\n",
              "      display:flex;\n",
              "      gap: 12px;\n",
              "    }\n",
              "\n",
              "    .colab-df-convert {\n",
              "      background-color: #E8F0FE;\n",
              "      border: none;\n",
              "      border-radius: 50%;\n",
              "      cursor: pointer;\n",
              "      display: none;\n",
              "      fill: #1967D2;\n",
              "      height: 32px;\n",
              "      padding: 0 0 0 0;\n",
              "      width: 32px;\n",
              "    }\n",
              "\n",
              "    .colab-df-convert:hover {\n",
              "      background-color: #E2EBFA;\n",
              "      box-shadow: 0px 1px 2px rgba(60, 64, 67, 0.3), 0px 1px 3px 1px rgba(60, 64, 67, 0.15);\n",
              "      fill: #174EA6;\n",
              "    }\n",
              "\n",
              "    .colab-df-buttons div {\n",
              "      margin-bottom: 4px;\n",
              "    }\n",
              "\n",
              "    [theme=dark] .colab-df-convert {\n",
              "      background-color: #3B4455;\n",
              "      fill: #D2E3FC;\n",
              "    }\n",
              "\n",
              "    [theme=dark] .colab-df-convert:hover {\n",
              "      background-color: #434B5C;\n",
              "      box-shadow: 0px 1px 3px 1px rgba(0, 0, 0, 0.15);\n",
              "      filter: drop-shadow(0px 1px 2px rgba(0, 0, 0, 0.3));\n",
              "      fill: #FFFFFF;\n",
              "    }\n",
              "  </style>\n",
              "\n",
              "    <script>\n",
              "      const buttonEl =\n",
              "        document.querySelector('#df-176d5c5b-106f-4321-acf2-bc5d276c1684 button.colab-df-convert');\n",
              "      buttonEl.style.display =\n",
              "        google.colab.kernel.accessAllowed ? 'block' : 'none';\n",
              "\n",
              "      async function convertToInteractive(key) {\n",
              "        const element = document.querySelector('#df-176d5c5b-106f-4321-acf2-bc5d276c1684');\n",
              "        const dataTable =\n",
              "          await google.colab.kernel.invokeFunction('convertToInteractive',\n",
              "                                                    [key], {});\n",
              "        if (!dataTable) return;\n",
              "\n",
              "        const docLinkHtml = 'Like what you see? Visit the ' +\n",
              "          '<a target=\"_blank\" href=https://colab.research.google.com/notebooks/data_table.ipynb>data table notebook</a>'\n",
              "          + ' to learn more about interactive tables.';\n",
              "        element.innerHTML = '';\n",
              "        dataTable['output_type'] = 'display_data';\n",
              "        await google.colab.output.renderOutput(dataTable, element);\n",
              "        const docLink = document.createElement('div');\n",
              "        docLink.innerHTML = docLinkHtml;\n",
              "        element.appendChild(docLink);\n",
              "      }\n",
              "    </script>\n",
              "  </div>\n",
              "\n",
              "\n",
              "<div id=\"df-07cda400-bd33-45f3-9a19-e3f961b5eee0\">\n",
              "  <button class=\"colab-df-quickchart\" onclick=\"quickchart('df-07cda400-bd33-45f3-9a19-e3f961b5eee0')\"\n",
              "            title=\"Suggest charts\"\n",
              "            style=\"display:none;\">\n",
              "\n",
              "<svg xmlns=\"http://www.w3.org/2000/svg\" height=\"24px\"viewBox=\"0 0 24 24\"\n",
              "     width=\"24px\">\n",
              "    <g>\n",
              "        <path d=\"M19 3H5c-1.1 0-2 .9-2 2v14c0 1.1.9 2 2 2h14c1.1 0 2-.9 2-2V5c0-1.1-.9-2-2-2zM9 17H7v-7h2v7zm4 0h-2V7h2v10zm4 0h-2v-4h2v4z\"/>\n",
              "    </g>\n",
              "</svg>\n",
              "  </button>\n",
              "\n",
              "<style>\n",
              "  .colab-df-quickchart {\n",
              "      --bg-color: #E8F0FE;\n",
              "      --fill-color: #1967D2;\n",
              "      --hover-bg-color: #E2EBFA;\n",
              "      --hover-fill-color: #174EA6;\n",
              "      --disabled-fill-color: #AAA;\n",
              "      --disabled-bg-color: #DDD;\n",
              "  }\n",
              "\n",
              "  [theme=dark] .colab-df-quickchart {\n",
              "      --bg-color: #3B4455;\n",
              "      --fill-color: #D2E3FC;\n",
              "      --hover-bg-color: #434B5C;\n",
              "      --hover-fill-color: #FFFFFF;\n",
              "      --disabled-bg-color: #3B4455;\n",
              "      --disabled-fill-color: #666;\n",
              "  }\n",
              "\n",
              "  .colab-df-quickchart {\n",
              "    background-color: var(--bg-color);\n",
              "    border: none;\n",
              "    border-radius: 50%;\n",
              "    cursor: pointer;\n",
              "    display: none;\n",
              "    fill: var(--fill-color);\n",
              "    height: 32px;\n",
              "    padding: 0;\n",
              "    width: 32px;\n",
              "  }\n",
              "\n",
              "  .colab-df-quickchart:hover {\n",
              "    background-color: var(--hover-bg-color);\n",
              "    box-shadow: 0 1px 2px rgba(60, 64, 67, 0.3), 0 1px 3px 1px rgba(60, 64, 67, 0.15);\n",
              "    fill: var(--button-hover-fill-color);\n",
              "  }\n",
              "\n",
              "  .colab-df-quickchart-complete:disabled,\n",
              "  .colab-df-quickchart-complete:disabled:hover {\n",
              "    background-color: var(--disabled-bg-color);\n",
              "    fill: var(--disabled-fill-color);\n",
              "    box-shadow: none;\n",
              "  }\n",
              "\n",
              "  .colab-df-spinner {\n",
              "    border: 2px solid var(--fill-color);\n",
              "    border-color: transparent;\n",
              "    border-bottom-color: var(--fill-color);\n",
              "    animation:\n",
              "      spin 1s steps(1) infinite;\n",
              "  }\n",
              "\n",
              "  @keyframes spin {\n",
              "    0% {\n",
              "      border-color: transparent;\n",
              "      border-bottom-color: var(--fill-color);\n",
              "      border-left-color: var(--fill-color);\n",
              "    }\n",
              "    20% {\n",
              "      border-color: transparent;\n",
              "      border-left-color: var(--fill-color);\n",
              "      border-top-color: var(--fill-color);\n",
              "    }\n",
              "    30% {\n",
              "      border-color: transparent;\n",
              "      border-left-color: var(--fill-color);\n",
              "      border-top-color: var(--fill-color);\n",
              "      border-right-color: var(--fill-color);\n",
              "    }\n",
              "    40% {\n",
              "      border-color: transparent;\n",
              "      border-right-color: var(--fill-color);\n",
              "      border-top-color: var(--fill-color);\n",
              "    }\n",
              "    60% {\n",
              "      border-color: transparent;\n",
              "      border-right-color: var(--fill-color);\n",
              "    }\n",
              "    80% {\n",
              "      border-color: transparent;\n",
              "      border-right-color: var(--fill-color);\n",
              "      border-bottom-color: var(--fill-color);\n",
              "    }\n",
              "    90% {\n",
              "      border-color: transparent;\n",
              "      border-bottom-color: var(--fill-color);\n",
              "    }\n",
              "  }\n",
              "</style>\n",
              "\n",
              "  <script>\n",
              "    async function quickchart(key) {\n",
              "      const quickchartButtonEl =\n",
              "        document.querySelector('#' + key + ' button');\n",
              "      quickchartButtonEl.disabled = true;  // To prevent multiple clicks.\n",
              "      quickchartButtonEl.classList.add('colab-df-spinner');\n",
              "      try {\n",
              "        const charts = await google.colab.kernel.invokeFunction(\n",
              "            'suggestCharts', [key], {});\n",
              "      } catch (error) {\n",
              "        console.error('Error during call to suggestCharts:', error);\n",
              "      }\n",
              "      quickchartButtonEl.classList.remove('colab-df-spinner');\n",
              "      quickchartButtonEl.classList.add('colab-df-quickchart-complete');\n",
              "    }\n",
              "    (() => {\n",
              "      let quickchartButtonEl =\n",
              "        document.querySelector('#df-07cda400-bd33-45f3-9a19-e3f961b5eee0 button');\n",
              "      quickchartButtonEl.style.display =\n",
              "        google.colab.kernel.accessAllowed ? 'block' : 'none';\n",
              "    })();\n",
              "  </script>\n",
              "</div>\n",
              "    </div>\n",
              "  </div>\n"
            ]
          },
          "metadata": {},
          "execution_count": 6
        }
      ]
    },
    {
      "cell_type": "code",
      "source": [
        "# Vérifier s'il existe des doublons dans le jeu de données\n",
        "df.nunique()"
      ],
      "metadata": {
        "colab": {
          "base_uri": "https://localhost:8080/"
        },
        "id": "2saAx3tcsvq3",
        "outputId": "ae7ae2d6-0f83-4028-8b80-8ba4ab049d89"
      },
      "execution_count": 7,
      "outputs": [
        {
          "output_type": "execute_result",
          "data": {
            "text/plain": [
              "Genre         2\n",
              "Taille    10000\n",
              "Poids     10000\n",
              "IMC           4\n",
              "dtype: int64"
            ]
          },
          "metadata": {},
          "execution_count": 7
        }
      ]
    },
    {
      "cell_type": "markdown",
      "source": [
        "*1. Test d'une variable quantitative*\n",
        "\n",
        "---\n",
        "\n"
      ],
      "metadata": {
        "id": "hOL4Z4iUs9Qp"
      }
    },
    {
      "cell_type": "code",
      "source": [
        "# Calcul de la moyenne arithmétique\n",
        "df['Taille'].mean()"
      ],
      "metadata": {
        "colab": {
          "base_uri": "https://localhost:8080/"
        },
        "id": "c7Tg8e9xs5pb",
        "outputId": "38d71688-4bcf-4d16-f4a5-3ea7c353cc38"
      },
      "execution_count": 9,
      "outputs": [
        {
          "output_type": "execute_result",
          "data": {
            "text/plain": [
              "1.6857360177711003"
            ]
          },
          "metadata": {},
          "execution_count": 9
        }
      ]
    },
    {
      "cell_type": "markdown",
      "source": [
        "**A. Test statistique (T-Test) :**\n",
        "Verifier si la moyenne de la taille de notre échantillon permet de conclure sur celle de la population. De ce fait, nous éméttons l'hypothèse Nulle (Ho) selon laquelle la taille a une distribution normale."
      ],
      "metadata": {
        "id": "C6b35kuHtbqv"
      }
    },
    {
      "cell_type": "code",
      "source": [
        "tset, pval = ttest_1samp(df['Taille'], 1.685)\n",
        "\n",
        "print(\"La p-value est égale à\",pval)\n",
        "\n",
        "if pval < 0.05:    # alpha = 5% soit 0,05\n",
        "   print(\"Ho est rejetée\")\n",
        "else:\n",
        "   print(\"Ho est maintenue\")"
      ],
      "metadata": {
        "colab": {
          "base_uri": "https://localhost:8080/"
        },
        "id": "prjRyhNUtu9Z",
        "outputId": "df04c698-69d2-4037-a6d7-0b82de18641a"
      },
      "execution_count": 13,
      "outputs": [
        {
          "output_type": "stream",
          "name": "stdout",
          "text": [
            "La p-value est égale à 0.4513865773843392\n",
            "Ho est maintenue\n"
          ]
        }
      ]
    },
    {
      "cell_type": "markdown",
      "source": [
        "**B. Test de Fisher :**\n",
        "Vérification d'existence d'une correlation entre une variable quantitative (Poids) et qualitative (IMC). De ce fait, nous éméttons l'hypothèse Nulle (Ho) selon laquelle la taille a une distribution normale."
      ],
      "metadata": {
        "id": "YjnEmWgcxxsH"
      }
    },
    {
      "cell_type": "code",
      "source": [
        "#ANOVA (F-TEST)\n",
        "df_anova = pd.read_csv('/gdrive/MyDrive/Colab_Notebooks/Poids-Taille-imc.csv', encoding='latin-1')\n",
        "df_anova = df_anova[['Poids','IMC']]\n",
        "grps = pd.unique(df_anova.IMC.values)\n",
        "print(grps)\n",
        "d_data = {grp:df_anova['Poids'][df_anova.IMC == grp] for grp in grps}\n",
        "print(d_data)"
      ],
      "metadata": {
        "colab": {
          "base_uri": "https://localhost:8080/"
        },
        "id": "Vh9lbJM-0Y6S",
        "outputId": "2f2dd894-7cec-4d14-d489-945adeb854ae"
      },
      "execution_count": 15,
      "outputs": [
        {
          "output_type": "stream",
          "name": "stdout",
          "text": [
            "['Obèse' 'Normal' 'Surpoids' 'Sous-poids']\n",
            "{'Obèse': 0       109.720985\n",
            "3        99.809504\n",
            "33       93.069649\n",
            "59       95.039544\n",
            "78       89.108085\n",
            "           ...    \n",
            "4846     87.489569\n",
            "4861    102.504845\n",
            "4869    102.229925\n",
            "4968     85.892814\n",
            "4997     90.353440\n",
            "Name: Poids, Length: 255, dtype: float64, 'Normal': 1       73.622732\n",
            "5       69.042216\n",
            "22      67.663936\n",
            "24      73.484921\n",
            "29      70.008586\n",
            "          ...    \n",
            "9994    50.135381\n",
            "9995    62.041159\n",
            "9997    58.275377\n",
            "9998    74.322166\n",
            "9999    51.550324\n",
            "Name: Poids, Length: 4114, dtype: float64, 'Surpoids': 2       96.497550\n",
            "4       93.598619\n",
            "6       83.428219\n",
            "7       76.190352\n",
            "8       79.800187\n",
            "          ...    \n",
            "9981    61.488655\n",
            "9982    80.735777\n",
            "9985    77.343883\n",
            "9992    62.909437\n",
            "9996    77.504315\n",
            "Name: Poids, Length: 5589, dtype: float64, 'Sous-poids': 5009    47.242314\n",
            "5191    41.153749\n",
            "5214    38.098588\n",
            "5360    31.289924\n",
            "5394    42.743031\n",
            "5605    41.747675\n",
            "5655    41.174682\n",
            "5740    36.528335\n",
            "5883    39.412932\n",
            "6269    41.750008\n",
            "6360    39.095530\n",
            "6367    38.915057\n",
            "6492    46.447990\n",
            "6624    32.383633\n",
            "6811    42.376488\n",
            "6982    35.912863\n",
            "7215    45.465704\n",
            "7294    35.655357\n",
            "7324    38.179154\n",
            "7427    39.035695\n",
            "7683    46.653706\n",
            "7821    45.805035\n",
            "7935    35.164164\n",
            "7974    43.722860\n",
            "8180    37.284577\n",
            "8181    41.059503\n",
            "8241    35.334163\n",
            "8330    47.196465\n",
            "8442    44.047187\n",
            "8673    45.918046\n",
            "8785    44.602403\n",
            "8819    37.660293\n",
            "9002    44.024981\n",
            "9285    29.347460\n",
            "9309    42.276635\n",
            "9462    38.289627\n",
            "9509    40.907379\n",
            "9566    32.998884\n",
            "9774    50.116694\n",
            "9775    39.478568\n",
            "9989    43.402710\n",
            "9991    46.653553\n",
            "Name: Poids, dtype: float64}\n"
          ]
        }
      ]
    },
    {
      "cell_type": "code",
      "source": [
        "F, p = f_oneway(d_data['Obèse'], d_data['Normal'], d_data['Surpoids'],d_data['Sous-poids'])\n",
        "print(\"La p-value est égale à\", p)\n",
        "if p < 0.05:\n",
        "    print(\"Ho est rejetée\")\n",
        "else:\n",
        "    print(\"Ho est maintenue\")"
      ],
      "metadata": {
        "colab": {
          "base_uri": "https://localhost:8080/"
        },
        "id": "16evUkQW1Bkj",
        "outputId": "db43c1cb-c793-4179-983b-cc591578c4af"
      },
      "execution_count": 16,
      "outputs": [
        {
          "output_type": "stream",
          "name": "stdout",
          "text": [
            "La p-value est égale à 0.0\n",
            "Ho est rejetée\n"
          ]
        }
      ]
    },
    {
      "cell_type": "markdown",
      "source": [
        "**C. CHI 2 :**\n",
        "Vérification d'existence d'une correlation entre deux variables qualitatives (Genre et IMC). De ce fait, nous éméttons l'hypothèse Nulle (Ho) selon laquelle il n'existe aucune relation entre le genre et l'IMC."
      ],
      "metadata": {
        "id": "Wr53P_P53X-R"
      }
    },
    {
      "cell_type": "code",
      "source": [
        "contingency_table=pd.crosstab(df[\"Genre\"],df[\"IMC\"])\n",
        "print('Table de contingence :\\n',contingency_table)"
      ],
      "metadata": {
        "colab": {
          "base_uri": "https://localhost:8080/"
        },
        "id": "vH1GTFan9T2w",
        "outputId": "9d1fd87a-9458-4e36-9d84-af2fb61eed2b"
      },
      "execution_count": 27,
      "outputs": [
        {
          "output_type": "stream",
          "name": "stdout",
          "text": [
            "Table de contingence :\n",
            " IMC    Normal  Obèse  Sous-poids  Surpoids\n",
            "Genre                                     \n",
            "Femme    3887      0          42      1071\n",
            "Homme     227    255           0      4518\n"
          ]
        }
      ]
    },
    {
      "cell_type": "code",
      "source": [
        "# calcul des valeurs pour le Test Chi 2.\n",
        "c, p, dof, expected = chi2_contingency(contingency_table)\n",
        "\n",
        "# Présenter la p-value\n",
        "print('la p-value est égale à ', p)\n",
        "if p < 0.05:\n",
        "    print(\"Ho est rejetée. Il existe ainsi une relation entre le genre et l'IMC\")\n",
        "else:\n",
        "    print(\"Ho est maintenue\")"
      ],
      "metadata": {
        "colab": {
          "base_uri": "https://localhost:8080/"
        },
        "id": "74V1f2-g92zf",
        "outputId": "1af55632-7002-49cd-f1ef-a77095495dbc"
      },
      "execution_count": 47,
      "outputs": [
        {
          "output_type": "stream",
          "name": "stdout",
          "text": [
            "la p-value est égale à  0.0\n",
            "Ho est rejetée. Il existe ainsi une relation entre le genre et l'IMC\n"
          ]
        }
      ]
    },
    {
      "cell_type": "code",
      "source": [
        "#Valeurs observées\n",
        "Observed_Values = contingency_table.values\n",
        "print(\"Valeurs observées : \\n\",Observed_Values)"
      ],
      "metadata": {
        "colab": {
          "base_uri": "https://localhost:8080/"
        },
        "id": "4pL3VpBBCB-z",
        "outputId": "96869adc-9925-4315-b1f5-6e0d8c55a1e0"
      },
      "execution_count": 34,
      "outputs": [
        {
          "output_type": "stream",
          "name": "stdout",
          "text": [
            "Valeurs observées : \n",
            " [[3887    0   42 1071]\n",
            " [ 227  255    0 4518]]\n"
          ]
        }
      ]
    },
    {
      "cell_type": "code",
      "source": [
        "#Valeurs attendues\n",
        "b=chi2_contingency(contingency_table)\n",
        "Expected_Values = b[3]\n",
        "print(\"Valeurs attendues :-\\n\",Expected_Values)"
      ],
      "metadata": {
        "colab": {
          "base_uri": "https://localhost:8080/"
        },
        "id": "UIEmYKpKCgY4",
        "outputId": "53e3e7b8-0dd8-4916-cb48-7236f2665bf1"
      },
      "execution_count": 35,
      "outputs": [
        {
          "output_type": "stream",
          "name": "stdout",
          "text": [
            "Valeurs attendues :-\n",
            " [[2057.   127.5   21.  2794.5]\n",
            " [2057.   127.5   21.  2794.5]]\n"
          ]
        }
      ]
    },
    {
      "cell_type": "code",
      "source": [
        "# Calcul du degré de liberté du tableau\n",
        "no_of_rows=len(contingency_table.iloc[:,0])\n",
        "no_of_columns=len(contingency_table.iloc[0,:])\n",
        "ddof=(no_of_rows-1)*(no_of_columns-1)\n",
        "print(\"Degré de Liberté est égale à\",ddof)"
      ],
      "metadata": {
        "colab": {
          "base_uri": "https://localhost:8080/"
        },
        "id": "kjOc94JWC03X",
        "outputId": "cbc3c307-e5ad-419d-9ac7-b79c0bc2985e"
      },
      "execution_count": 39,
      "outputs": [
        {
          "output_type": "stream",
          "name": "stdout",
          "text": [
            "Degré de Liberté est égale à 3\n"
          ]
        }
      ]
    },
    {
      "cell_type": "markdown",
      "source": [
        "**D. Tests de Pearson :**\n",
        "Vérification d'existence d'une correlation entre deux variables quantitatives (Taille et Poids). De ce fait, nous éméttons l'hypothèse Nulle (Ho) selon laquelle il n'existe aucune relation entre la Taille et le Poids."
      ],
      "metadata": {
        "id": "Xi5-44rrFBBI"
      }
    },
    {
      "cell_type": "code",
      "source": [
        "fig=plt.figure()\n",
        "ax=plt.axes()\n",
        "x=df['Taille']\n",
        "y=df['Poids']\n",
        "plt.scatter(x,y)\n",
        "ax=ax.set(xlabel='Taille', ylabel='Poids')\n",
        "plt.title('Poids vs Taille', fontsize=16)"
      ],
      "metadata": {
        "colab": {
          "base_uri": "https://localhost:8080/",
          "height": 491
        },
        "id": "J28lNEnyDMht",
        "outputId": "b3f117d5-e1d6-49dc-9b72-8dda01747076"
      },
      "execution_count": 40,
      "outputs": [
        {
          "output_type": "execute_result",
          "data": {
            "text/plain": [
              "Text(0.5, 1.0, 'Poids vs Taille')"
            ]
          },
          "metadata": {},
          "execution_count": 40
        },
        {
          "output_type": "display_data",
          "data": {
            "text/plain": [
              "<Figure size 640x480 with 1 Axes>"
            ],
            "image/png": "[encoded data removed]"
          },
          "metadata": {}
        }
      ]
    },
    {
      "cell_type": "code",
      "source": [
        "r,p=pearsonr(df['Taille'],df['Poids'])\n",
        "# Présenter la p-value\n",
        "print('la p-value est égale à ', p)\n",
        "if p < 0.05:\n",
        "    print(\"Ho est rejetée. Il existe ainsi une relation entre la Taille et le Poids.\")\n",
        "else:\n",
        "    print(\"Ho est maintenue.\")"
      ],
      "metadata": {
        "colab": {
          "base_uri": "https://localhost:8080/"
        },
        "id": "11Jl0HTzF0MZ",
        "outputId": "c5026c93-0e8b-498c-80a4-4d115e7bb574"
      },
      "execution_count": 45,
      "outputs": [
        {
          "output_type": "stream",
          "name": "stdout",
          "text": [
            "la p-value est égale à  0.0\n",
            "Ho est rejetée. Il existe ainsi une relation entre la Taille et le Poids.\n"
          ]
        }
      ]
    }
  ]
}